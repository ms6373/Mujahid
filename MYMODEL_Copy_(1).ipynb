{
  "nbformat": 4,
  "nbformat_minor": 0,
  "metadata": {
    "colab": {
      "name": "MYMODEL_Copy (1).ipynb",
      "provenance": [],
      "include_colab_link": true
    },
    "kernelspec": {
      "name": "python3",
      "display_name": "Python 3"
    },
    "accelerator": "TPU"
  },
  "cells": [
    {
      "cell_type": "markdown",
      "metadata": {
        "id": "view-in-github",
        "colab_type": "text"
      },
      "source": [
        "<a href=\"https://colab.research.google.com/github/ms6373/Mujahid/blob/master/MYMODEL_Copy_(1).ipynb\" target=\"_parent\"><img src=\"https://colab.research.google.com/assets/colab-badge.svg\" alt=\"Open In Colab\"/></a>"
      ]
    },
    {
      "cell_type": "code",
      "metadata": {
        "id": "DYihQBLLWwUS",
        "colab_type": "code",
        "colab": {
          "base_uri": "https://localhost:8080/"
        },
        "outputId": "f32172f1-fa67-48b5-8f69-3ee92c7a4ce5"
      },
      "source": [
        ""
      ],
      "execution_count": 1,
      "outputs": [
        {
          "output_type": "stream",
          "text": [
            "--2020-07-06 03:18:57--  https://www.crcv.ucf.edu/projects/Abnormal_Crowd/Normal_Abnormal_Crowd.zip\n",
            "Resolving www.crcv.ucf.edu (www.crcv.ucf.edu)... 132.170.214.127\n",
            "Connecting to www.crcv.ucf.edu (www.crcv.ucf.edu)|132.170.214.127|:443... connected.\n",
            "HTTP request sent, awaiting response... 200 OK\n",
            "Length: 266608716 (254M) [application/zip]\n",
            "Saving to: ‘Normal_Abnormal_Crowd.zip’\n",
            "\n",
            "\r          Normal_Ab   0%[                    ]       0  --.-KB/s               \r         Normal_Abn   0%[                    ]   1.65M  7.22MB/s               \r        Normal_Abno   6%[>                   ]  15.37M  35.9MB/s               \r       Normal_Abnor  11%[=>                  ]  30.02M  47.7MB/s               \r      Normal_Abnorm  17%[==>                 ]  44.90M  54.2MB/s               \r     Normal_Abnorma  23%[===>                ]  59.69M  58.0MB/s               \r    Normal_Abnormal  29%[====>               ]  74.26M  60.4MB/s               \r   Normal_Abnormal_  34%[=====>              ]  88.77M  62.1MB/s               \r  Normal_Abnormal_C  40%[=======>            ] 103.63M  63.6MB/s               \r Normal_Abnormal_Cr  46%[========>           ] 118.73M  64.8MB/s               \rNormal_Abnormal_Cro  50%[=========>          ] 129.45M  63.7MB/s               \rormal_Abnormal_Crow  56%[==========>         ] 143.66M  64.3MB/s               \rrmal_Abnormal_Crowd  62%[===========>        ] 158.40M  65.1MB/s               \rmal_Abnormal_Crowd.  68%[============>       ] 173.26M  65.8MB/s               \ral_Abnormal_Crowd.z  74%[=============>      ] 188.18M  66.4MB/s               \rl_Abnormal_Crowd.zi  79%[==============>     ] 202.96M  66.9MB/s    eta 1s     \r_Abnormal_Crowd.zip  85%[================>   ] 217.71M  70.5MB/s    eta 1s     \rAbnormal_Crowd.zip   91%[=================>  ] 232.65M  72.4MB/s    eta 1s     \rbnormal_Crowd.zip    97%[==================> ] 246.94M  72.2MB/s    eta 1s     \rNormal_Abnormal_Cro 100%[===================>] 254.26M  71.8MB/s    in 3.7s    \n",
            "\n",
            "2020-07-06 03:19:01 (67.8 MB/s) - ‘Normal_Abnormal_Crowd.zip’ saved [266608716/266608716]\n",
            "\n"
          ],
          "name": "stdout"
        }
      ]
    },
    {
      "cell_type": "code",
      "metadata": {
        "id": "31XChnLBLip0",
        "colab_type": "code",
        "colab": {
          "base_uri": "https://localhost:8080/",
          "height": 527
        },
        "outputId": "a13e0222-534f-40b8-ba77-ca542b0e55be"
      },
      "source": [
        "from google.colab import drive\n",
        "drive.mount('/content/drive')"
      ],
      "execution_count": 4,
      "outputs": [
        {
          "output_type": "error",
          "ename": "KeyboardInterrupt",
          "evalue": "ignored",
          "traceback": [
            "\u001b[0;31m---------------------------------------------------------------------------\u001b[0m",
            "\u001b[0;31mKeyboardInterrupt\u001b[0m                         Traceback (most recent call last)",
            "\u001b[0;32m/usr/local/lib/python3.6/dist-packages/ipykernel/kernelbase.py\u001b[0m in \u001b[0;36m_input_request\u001b[0;34m(self, prompt, ident, parent, password)\u001b[0m\n\u001b[1;32m    728\u001b[0m             \u001b[0;32mtry\u001b[0m\u001b[0;34m:\u001b[0m\u001b[0;34m\u001b[0m\u001b[0;34m\u001b[0m\u001b[0m\n\u001b[0;32m--> 729\u001b[0;31m                 \u001b[0mident\u001b[0m\u001b[0;34m,\u001b[0m \u001b[0mreply\u001b[0m \u001b[0;34m=\u001b[0m \u001b[0mself\u001b[0m\u001b[0;34m.\u001b[0m\u001b[0msession\u001b[0m\u001b[0;34m.\u001b[0m\u001b[0mrecv\u001b[0m\u001b[0;34m(\u001b[0m\u001b[0mself\u001b[0m\u001b[0;34m.\u001b[0m\u001b[0mstdin_socket\u001b[0m\u001b[0;34m,\u001b[0m \u001b[0;36m0\u001b[0m\u001b[0;34m)\u001b[0m\u001b[0;34m\u001b[0m\u001b[0;34m\u001b[0m\u001b[0m\n\u001b[0m\u001b[1;32m    730\u001b[0m             \u001b[0;32mexcept\u001b[0m \u001b[0mException\u001b[0m\u001b[0;34m:\u001b[0m\u001b[0;34m\u001b[0m\u001b[0;34m\u001b[0m\u001b[0m\n",
            "\u001b[0;32m/usr/local/lib/python3.6/dist-packages/jupyter_client/session.py\u001b[0m in \u001b[0;36mrecv\u001b[0;34m(self, socket, mode, content, copy)\u001b[0m\n\u001b[1;32m    802\u001b[0m         \u001b[0;32mtry\u001b[0m\u001b[0;34m:\u001b[0m\u001b[0;34m\u001b[0m\u001b[0;34m\u001b[0m\u001b[0m\n\u001b[0;32m--> 803\u001b[0;31m             \u001b[0mmsg_list\u001b[0m \u001b[0;34m=\u001b[0m \u001b[0msocket\u001b[0m\u001b[0;34m.\u001b[0m\u001b[0mrecv_multipart\u001b[0m\u001b[0;34m(\u001b[0m\u001b[0mmode\u001b[0m\u001b[0;34m,\u001b[0m \u001b[0mcopy\u001b[0m\u001b[0;34m=\u001b[0m\u001b[0mcopy\u001b[0m\u001b[0;34m)\u001b[0m\u001b[0;34m\u001b[0m\u001b[0;34m\u001b[0m\u001b[0m\n\u001b[0m\u001b[1;32m    804\u001b[0m         \u001b[0;32mexcept\u001b[0m \u001b[0mzmq\u001b[0m\u001b[0;34m.\u001b[0m\u001b[0mZMQError\u001b[0m \u001b[0;32mas\u001b[0m \u001b[0me\u001b[0m\u001b[0;34m:\u001b[0m\u001b[0;34m\u001b[0m\u001b[0;34m\u001b[0m\u001b[0m\n",
            "\u001b[0;32m/usr/local/lib/python3.6/dist-packages/zmq/sugar/socket.py\u001b[0m in \u001b[0;36mrecv_multipart\u001b[0;34m(self, flags, copy, track)\u001b[0m\n\u001b[1;32m    474\u001b[0m         \"\"\"\n\u001b[0;32m--> 475\u001b[0;31m         \u001b[0mparts\u001b[0m \u001b[0;34m=\u001b[0m \u001b[0;34m[\u001b[0m\u001b[0mself\u001b[0m\u001b[0;34m.\u001b[0m\u001b[0mrecv\u001b[0m\u001b[0;34m(\u001b[0m\u001b[0mflags\u001b[0m\u001b[0;34m,\u001b[0m \u001b[0mcopy\u001b[0m\u001b[0;34m=\u001b[0m\u001b[0mcopy\u001b[0m\u001b[0;34m,\u001b[0m \u001b[0mtrack\u001b[0m\u001b[0;34m=\u001b[0m\u001b[0mtrack\u001b[0m\u001b[0;34m)\u001b[0m\u001b[0;34m]\u001b[0m\u001b[0;34m\u001b[0m\u001b[0;34m\u001b[0m\u001b[0m\n\u001b[0m\u001b[1;32m    476\u001b[0m         \u001b[0;31m# have first part already, only loop while more to receive\u001b[0m\u001b[0;34m\u001b[0m\u001b[0;34m\u001b[0m\u001b[0;34m\u001b[0m\u001b[0m\n",
            "\u001b[0;32mzmq/backend/cython/socket.pyx\u001b[0m in \u001b[0;36mzmq.backend.cython.socket.Socket.recv\u001b[0;34m()\u001b[0m\n",
            "\u001b[0;32mzmq/backend/cython/socket.pyx\u001b[0m in \u001b[0;36mzmq.backend.cython.socket.Socket.recv\u001b[0;34m()\u001b[0m\n",
            "\u001b[0;32mzmq/backend/cython/socket.pyx\u001b[0m in \u001b[0;36mzmq.backend.cython.socket._recv_copy\u001b[0;34m()\u001b[0m\n",
            "\u001b[0;32m/usr/local/lib/python3.6/dist-packages/zmq/backend/cython/checkrc.pxd\u001b[0m in \u001b[0;36mzmq.backend.cython.checkrc._check_rc\u001b[0;34m()\u001b[0m\n",
            "\u001b[0;31mKeyboardInterrupt\u001b[0m: ",
            "\nDuring handling of the above exception, another exception occurred:\n",
            "\u001b[0;31mKeyboardInterrupt\u001b[0m                         Traceback (most recent call last)",
            "\u001b[0;32m<ipython-input-4-d5df0069828e>\u001b[0m in \u001b[0;36m<module>\u001b[0;34m()\u001b[0m\n\u001b[1;32m      1\u001b[0m \u001b[0;32mfrom\u001b[0m \u001b[0mgoogle\u001b[0m\u001b[0;34m.\u001b[0m\u001b[0mcolab\u001b[0m \u001b[0;32mimport\u001b[0m \u001b[0mdrive\u001b[0m\u001b[0;34m\u001b[0m\u001b[0;34m\u001b[0m\u001b[0m\n\u001b[0;32m----> 2\u001b[0;31m \u001b[0mdrive\u001b[0m\u001b[0;34m.\u001b[0m\u001b[0mmount\u001b[0m\u001b[0;34m(\u001b[0m\u001b[0;34m'/content/drive'\u001b[0m\u001b[0;34m)\u001b[0m\u001b[0;34m\u001b[0m\u001b[0;34m\u001b[0m\u001b[0m\n\u001b[0m",
            "\u001b[0;32m/usr/local/lib/python3.6/dist-packages/google/colab/drive.py\u001b[0m in \u001b[0;36mmount\u001b[0;34m(mountpoint, force_remount, timeout_ms, use_metadata_server)\u001b[0m\n\u001b[1;32m    240\u001b[0m       \u001b[0mauth_prompt\u001b[0m \u001b[0;34m=\u001b[0m \u001b[0md\u001b[0m\u001b[0;34m.\u001b[0m\u001b[0mmatch\u001b[0m\u001b[0;34m.\u001b[0m\u001b[0mgroup\u001b[0m\u001b[0;34m(\u001b[0m\u001b[0;36m1\u001b[0m\u001b[0;34m)\u001b[0m \u001b[0;34m+\u001b[0m \u001b[0;34m'\\nEnter your authorization code:\\n'\u001b[0m\u001b[0;34m\u001b[0m\u001b[0;34m\u001b[0m\u001b[0m\n\u001b[1;32m    241\u001b[0m       \u001b[0;32mwith\u001b[0m \u001b[0mopen\u001b[0m\u001b[0;34m(\u001b[0m\u001b[0mfifo\u001b[0m\u001b[0;34m,\u001b[0m \u001b[0;34m'w'\u001b[0m\u001b[0;34m)\u001b[0m \u001b[0;32mas\u001b[0m \u001b[0mfifo_file\u001b[0m\u001b[0;34m:\u001b[0m\u001b[0;34m\u001b[0m\u001b[0;34m\u001b[0m\u001b[0m\n\u001b[0;32m--> 242\u001b[0;31m         \u001b[0mfifo_file\u001b[0m\u001b[0;34m.\u001b[0m\u001b[0mwrite\u001b[0m\u001b[0;34m(\u001b[0m\u001b[0m_getpass\u001b[0m\u001b[0;34m.\u001b[0m\u001b[0mgetpass\u001b[0m\u001b[0;34m(\u001b[0m\u001b[0mauth_prompt\u001b[0m\u001b[0;34m)\u001b[0m \u001b[0;34m+\u001b[0m \u001b[0;34m'\\n'\u001b[0m\u001b[0;34m)\u001b[0m\u001b[0;34m\u001b[0m\u001b[0;34m\u001b[0m\u001b[0m\n\u001b[0m\u001b[1;32m    243\u001b[0m       \u001b[0mwrote_to_fifo\u001b[0m \u001b[0;34m=\u001b[0m \u001b[0;32mTrue\u001b[0m\u001b[0;34m\u001b[0m\u001b[0;34m\u001b[0m\u001b[0m\n\u001b[1;32m    244\u001b[0m   \u001b[0;32mif\u001b[0m \u001b[0;32mnot\u001b[0m \u001b[0mwrote_to_fifo\u001b[0m\u001b[0;34m:\u001b[0m\u001b[0;34m\u001b[0m\u001b[0;34m\u001b[0m\u001b[0m\n",
            "\u001b[0;32m/usr/local/lib/python3.6/dist-packages/ipykernel/kernelbase.py\u001b[0m in \u001b[0;36mgetpass\u001b[0;34m(self, prompt, stream)\u001b[0m\n\u001b[1;32m    685\u001b[0m             \u001b[0mself\u001b[0m\u001b[0;34m.\u001b[0m\u001b[0m_parent_ident\u001b[0m\u001b[0;34m,\u001b[0m\u001b[0;34m\u001b[0m\u001b[0;34m\u001b[0m\u001b[0m\n\u001b[1;32m    686\u001b[0m             \u001b[0mself\u001b[0m\u001b[0;34m.\u001b[0m\u001b[0m_parent_header\u001b[0m\u001b[0;34m,\u001b[0m\u001b[0;34m\u001b[0m\u001b[0;34m\u001b[0m\u001b[0m\n\u001b[0;32m--> 687\u001b[0;31m             \u001b[0mpassword\u001b[0m\u001b[0;34m=\u001b[0m\u001b[0;32mTrue\u001b[0m\u001b[0;34m,\u001b[0m\u001b[0;34m\u001b[0m\u001b[0;34m\u001b[0m\u001b[0m\n\u001b[0m\u001b[1;32m    688\u001b[0m         )\n\u001b[1;32m    689\u001b[0m \u001b[0;34m\u001b[0m\u001b[0m\n",
            "\u001b[0;32m/usr/local/lib/python3.6/dist-packages/ipykernel/kernelbase.py\u001b[0m in \u001b[0;36m_input_request\u001b[0;34m(self, prompt, ident, parent, password)\u001b[0m\n\u001b[1;32m    732\u001b[0m             \u001b[0;32mexcept\u001b[0m \u001b[0mKeyboardInterrupt\u001b[0m\u001b[0;34m:\u001b[0m\u001b[0;34m\u001b[0m\u001b[0;34m\u001b[0m\u001b[0m\n\u001b[1;32m    733\u001b[0m                 \u001b[0;31m# re-raise KeyboardInterrupt, to truncate traceback\u001b[0m\u001b[0;34m\u001b[0m\u001b[0;34m\u001b[0m\u001b[0;34m\u001b[0m\u001b[0m\n\u001b[0;32m--> 734\u001b[0;31m                 \u001b[0;32mraise\u001b[0m \u001b[0mKeyboardInterrupt\u001b[0m\u001b[0;34m\u001b[0m\u001b[0;34m\u001b[0m\u001b[0m\n\u001b[0m\u001b[1;32m    735\u001b[0m             \u001b[0;32melse\u001b[0m\u001b[0;34m:\u001b[0m\u001b[0;34m\u001b[0m\u001b[0;34m\u001b[0m\u001b[0m\n\u001b[1;32m    736\u001b[0m                 \u001b[0;32mbreak\u001b[0m\u001b[0;34m\u001b[0m\u001b[0;34m\u001b[0m\u001b[0m\n",
            "\u001b[0;31mKeyboardInterrupt\u001b[0m: "
          ]
        }
      ]
    },
    {
      "cell_type": "code",
      "metadata": {
        "id": "KtNZyBteLgdg",
        "colab_type": "code",
        "colab": {}
      },
      "source": [
        "!wget https://www.crcv.ucf.edu/projects/Abnormal_Crowd/Normal_Abnormal_Crowd.zip"
      ],
      "execution_count": null,
      "outputs": []
    },
    {
      "cell_type": "code",
      "metadata": {
        "id": "UY-7J7n4-XI5",
        "colab_type": "code",
        "colab": {
          "base_uri": "https://localhost:8080/",
          "height": 425
        },
        "outputId": "02bb8c18-9f66-4067-ffb7-1fdfc3a1b995"
      },
      "source": [
        "!unzip '/content/Normal_Abnormal_Crowd.zip'"
      ],
      "execution_count": 3,
      "outputs": [
        {
          "output_type": "stream",
          "text": [
            "Archive:  /content/Normal_Abnormal_Crowd.zip\n",
            "   creating: Normal Crowds/\n",
            "  inflating: Normal Crowds/341-46_l.mov  \n",
            "  inflating: Normal Crowds/3687-18_70.mov  \n",
            "  inflating: Normal Crowds/637-147_l.mov  \n",
            "  inflating: Normal Crowds/688-10_l.mov  \n",
            "  inflating: Normal Crowds/81872953_l.mov  \n",
            "  inflating: Normal Crowds/821-10_l.mov  \n",
            "  inflating: Normal Crowds/879-38_l.mov  \n",
            "  inflating: Normal Crowds/9019-13_l.mov  \n",
            "  inflating: Normal Crowds/906-17_l.mov  \n",
            "  inflating: Normal Crowds/CRW116.mov  \n",
            "  inflating: Normal Crowds/sfw20110024_l.mov  \n",
            "  inflating: Normal Crowds/shibuya1.mov  \n",
            "   creating: Abnormal Crowds/\n",
            "  inflating: Abnormal Crowds/1183-88_l.mov  \n",
            "  inflating: Abnormal Crowds/2010-291_l.avi  \n",
            "  inflating: Abnormal Crowds/2014-140_l.avi  \n",
            "  inflating: Abnormal Crowds/2017-420_l.mov  \n",
            "  inflating: Abnormal Crowds/263C044_060_c.mov  \n",
            "  inflating: Abnormal Crowds/263C044_064_c.mov  \n",
            "  inflating: Abnormal Crowds/3452204_031_c.mov  \n",
            "  inflating: Abnormal Crowds/490-208_l.mov  \n",
            "  inflating: Abnormal Crowds/Thumbs.db  \n"
          ],
          "name": "stdout"
        }
      ]
    },
    {
      "cell_type": "code",
      "metadata": {
        "id": "xcuj5oGNW9aq",
        "colab_type": "code",
        "colab": {
          "base_uri": "https://localhost:8080/",
          "height": 221
        },
        "outputId": "c600fbfd-4a5c-4251-d695-a2ab786f0fa1"
      },
      "source": [
        "import os\n",
        "import cv2\n",
        "import numpy as np\n",
        "l = 0\n",
        "video_folder = '/content/Normal Crowds/'\n",
        "X_data = []\n",
        "y_data = []\n",
        "list_of_videos = os.listdir(video_folder)\n",
        "for i in list_of_videos:\n",
        "    # Video Path\n",
        "    vid = str(video_folder + i)  # path to each video from list1 = os.listdir(path)\n",
        "    # Reading the Video\n",
        "    cap = cv2.VideoCapture(vid)\n",
        "    # Reading Frames\n",
        "    # fps = vcap.get(5)\n",
        "    # To Store Frames\n",
        "    q = 0\n",
        "    frames = []\n",
        "    if l % 1 == 0:\n",
        "         print(l, \"/\", len(list_of_videos))\n",
        "\n",
        "    l += 1\n",
        "    while (cap.isOpened()):\n",
        "\n",
        "        q += 1\n",
        "        ret, frame = cap.read()\n",
        "        if ret == False:\n",
        "            break\n",
        "        else:\n",
        "            frame = cv2.resize(frame, (100, 100), interpolation=cv2.INTER_AREA)\n",
        "            frames.append(frame)\n",
        "\n",
        "        if q == 16:\n",
        "            X_data.append(frames)  # appending each tensor of 40 frames resized to 30x30\n",
        "            y_data.append(0)  # appending a class label to the set of 40 frames\n",
        "            frames = []\n",
        "            q=0"
      ],
      "execution_count": 6,
      "outputs": [
        {
          "output_type": "stream",
          "text": [
            "0 / 12\n",
            "1 / 12\n",
            "2 / 12\n",
            "3 / 12\n",
            "4 / 12\n",
            "5 / 12\n",
            "6 / 12\n",
            "7 / 12\n",
            "8 / 12\n",
            "9 / 12\n",
            "10 / 12\n",
            "11 / 12\n"
          ],
          "name": "stdout"
        }
      ]
    },
    {
      "cell_type": "code",
      "metadata": {
        "id": "1SsxL7t_EHy_",
        "colab_type": "code",
        "colab": {
          "base_uri": "https://localhost:8080/",
          "height": 170
        },
        "outputId": "be505026-04f7-412a-ecc3-33c5fb462ad1"
      },
      "source": [
        "\n",
        "l = 0\n",
        "video_folder = '/content/Abnormal Crowds/'\n",
        "# X_data = []\n",
        "# y_data = [}\n",
        "list_of_videos = os.listdir(video_folder)\n",
        "for i in list_of_videos:\n",
        "    # Video Path\n",
        "    vid = str(video_folder + i)  # path to each video from list1 = os.listdir(path)\n",
        "    # Reading the Video\n",
        "    cap = cv2.VideoCapture(vid)\n",
        "    # Reading Frames\n",
        "    # fps = vcap.get(5)\n",
        "    # To Store Frames\n",
        "    q = 0\n",
        "    frames = []\n",
        "    if l % 1 == 0:\n",
        "         print(l, \"/\", len(list_of_videos))\n",
        "\n",
        "    l += 1\n",
        "    while (cap.isOpened()):\n",
        "\n",
        "        q += 1\n",
        "        ret, frame = cap.read()\n",
        "        if ret == False:\n",
        "            break\n",
        "        else:\n",
        "            frame = cv2.resize(frame, (100, 100), interpolation=cv2.INTER_AREA)\n",
        "            frames.append(frame)\n",
        "\n",
        "        if q == 16:\n",
        "            X_data.append(frames)  # appending each tensor of 40 frames resized to 30x30\n",
        "            y_data.append(1)  # appending a class label to the set of 40 frames\n",
        "            frames = []\n",
        "            q=0"
      ],
      "execution_count": 7,
      "outputs": [
        {
          "output_type": "stream",
          "text": [
            "0 / 9\n",
            "1 / 9\n",
            "2 / 9\n",
            "3 / 9\n",
            "4 / 9\n",
            "5 / 9\n",
            "6 / 9\n",
            "7 / 9\n",
            "8 / 9\n"
          ],
          "name": "stdout"
        }
      ]
    },
    {
      "cell_type": "code",
      "metadata": {
        "id": "wh-wWvbJlnAu",
        "colab_type": "code",
        "colab": {}
      },
      "source": [
        "X_data = np.array(X_data)\n",
        "y_data = np.array(y_data)"
      ],
      "execution_count": 8,
      "outputs": []
    },
    {
      "cell_type": "code",
      "metadata": {
        "id": "hozNs-Ovl6ss",
        "colab_type": "code",
        "colab": {
          "base_uri": "https://localhost:8080/",
          "height": 34
        },
        "outputId": "573c783f-4b4d-41be-f141-25d742f3fc14"
      },
      "source": [
        "X_data.shape"
      ],
      "execution_count": 9,
      "outputs": [
        {
          "output_type": "execute_result",
          "data": {
            "text/plain": [
              "(738, 16, 100, 100, 3)"
            ]
          },
          "metadata": {
            "tags": []
          },
          "execution_count": 9
        }
      ]
    },
    {
      "cell_type": "code",
      "metadata": {
        "id": "jwznH3o3l9wa",
        "colab_type": "code",
        "colab": {
          "base_uri": "https://localhost:8080/",
          "height": 34
        },
        "outputId": "8d543c2c-a3e7-43bf-b9c7-1d5ea02cc0b4"
      },
      "source": [
        "y_data.shape"
      ],
      "execution_count": 10,
      "outputs": [
        {
          "output_type": "execute_result",
          "data": {
            "text/plain": [
              "(738,)"
            ]
          },
          "metadata": {
            "tags": []
          },
          "execution_count": 10
        }
      ]
    },
    {
      "cell_type": "code",
      "metadata": {
        "id": "rMhjXNhTl_g6",
        "colab_type": "code",
        "colab": {}
      },
      "source": [
        "X_data = X_data.astype('float32') / 255.\n"
      ],
      "execution_count": 11,
      "outputs": []
    },
    {
      "cell_type": "code",
      "metadata": {
        "id": "QfAbF8c6mEKZ",
        "colab_type": "code",
        "colab": {}
      },
      "source": [
        "p = np.random.permutation(len(X_data))\n",
        "\n",
        "X_data = X_data[p]\n",
        "y_data = y_data[p]"
      ],
      "execution_count": 12,
      "outputs": []
    },
    {
      "cell_type": "code",
      "metadata": {
        "id": "EKIhRPRVmIjj",
        "colab_type": "code",
        "colab": {
          "base_uri": "https://localhost:8080/",
          "height": 34
        },
        "outputId": "3b9d9bb6-6640-4d09-8503-e1854af18efc"
      },
      "source": [
        "from keras.layers import Conv3D, MaxPool3D, Flatten, Dense\n",
        "from keras.layers import Dropout, Input, BatchNormalization\n",
        "from sklearn.metrics import confusion_matrix, accuracy_score\n",
        "from plotly.offline import iplot, init_notebook_mode\n",
        "from keras.losses import binary_crossentropy \n",
        "from keras.optimizers import Adadelta\n",
        "import plotly.graph_objs as go\n",
        "from matplotlib.pyplot import cm\n",
        "from keras.models import Model\n",
        "import numpy as np\n",
        "import keras\n",
        "from keras.preprocessing import image\n",
        "from keras.preprocessing.image import array_to_img, img_to_array, load_img\n",
        "from PIL import ImageFile\n",
        "ImageFile.LOAD_TRUNCATED_IMAGES = True\n",
        "#initilize cnn\n",
        "\n",
        "init_notebook_mode(connected=True)\n",
        "%matplotlib inline"
      ],
      "execution_count": 13,
      "outputs": [
        {
          "output_type": "stream",
          "text": [
            "Using TensorFlow backend.\n"
          ],
          "name": "stderr"
        },
        {
          "output_type": "display_data",
          "data": {
            "text/html": [
              "        <script type=\"text/javascript\">\n",
              "        window.PlotlyConfig = {MathJaxConfig: 'local'};\n",
              "        if (window.MathJax) {MathJax.Hub.Config({SVG: {font: \"STIX-Web\"}});}\n",
              "        if (typeof require !== 'undefined') {\n",
              "        require.undef(\"plotly\");\n",
              "        requirejs.config({\n",
              "            paths: {\n",
              "                'plotly': ['https://cdn.plot.ly/plotly-latest.min']\n",
              "            }\n",
              "        });\n",
              "        require(['plotly'], function(Plotly) {\n",
              "            window._Plotly = Plotly;\n",
              "        });\n",
              "        }\n",
              "        </script>\n",
              "        "
            ]
          },
          "metadata": {
            "tags": []
          }
        }
      ]
    },
    {
      "cell_type": "code",
      "metadata": {
        "id": "T4gG7x0PmQZW",
        "colab_type": "code",
        "colab": {}
      },
      "source": [
        "\n",
        "input_layer = Input((16, 100, 100, 3))\n",
        "\n",
        "## convolutional layers\n",
        "conv_layer1 = Conv3D(filters=8, kernel_size=(3, 3, 3), activation='relu')(input_layer)\n",
        "conv_layer2 = Conv3D(filters=16, kernel_size=(3, 3, 3), activation='relu')(conv_layer1)\n",
        "\n",
        "## add max pooling to obtain the most imformatic features\n",
        "pooling_layer1 = MaxPool3D(pool_size=(2, 2, 2))(conv_layer2)\n",
        "\n",
        "conv_layer3 = Conv3D(filters=32, kernel_size=(3, 3, 3), activation='relu')(pooling_layer1)\n",
        "conv_layer4 = Conv3D(filters=64, kernel_size=(3, 3, 3), activation='relu')(conv_layer3)\n",
        "pooling_layer2 = MaxPool3D(pool_size=(2, 2, 2))(conv_layer4)\n",
        "\n",
        "## perform batch normalization on the convolution outputs before feeding it to MLP architecture\n",
        "pooling_layer2 = BatchNormalization()(pooling_layer2)\n",
        "flatten_layer = Flatten()(pooling_layer2)\n",
        "\n",
        "## create an MLP architecture with dense layers : 4096 -> 512 -> 10\n",
        "## add dropouts to avoid overfitting / perform regularization\n",
        "dense_layer1 = Dense(units=2048, activation='relu')(flatten_layer)\n",
        "dense_layer1 = Dropout(0.4)(dense_layer1)\n",
        "dense_layer2 = Dense(units=512, activation='relu')(dense_layer1)\n",
        "dense_layer2 = Dropout(0.4)(dense_layer2)\n",
        "output_layer = Dense(units=1, activation='sigmoid')(dense_layer2)\n",
        "\n",
        "## define the model with input layer and output layer\n",
        "model = Model(inputs=input_layer, outputs=output_layer)\n",
        "\n",
        "model.compile(loss=binary_crossentropy , optimizer=Adadelta(lr=0.001), metrics=['acc'])\n",
        "# model.fit(X_data , y_data, epochs=100)\n"
      ],
      "execution_count": 14,
      "outputs": []
    },
    {
      "cell_type": "markdown",
      "metadata": {
        "id": "1KJ8ouueJ-7R",
        "colab_type": "text"
      },
      "source": [
        "PrePAring Validation data"
      ]
    },
    {
      "cell_type": "code",
      "metadata": {
        "id": "Y1yejHtLKCol",
        "colab_type": "code",
        "colab": {
          "base_uri": "https://localhost:8080/",
          "height": 34
        },
        "outputId": "ee1dca56-0d73-4193-cf79-c5f0e3f22694"
      },
      "source": [
        "# import os\n",
        "# import cv2\n",
        "# import numpy as np\n",
        "# l = 0\n",
        "# video_folder = '/content/drive/My Drive/Crowd/Val/N/'\n",
        "# X_val = []\n",
        "# y_val = []\n",
        "# list_of_videos = os.listdir(video_folder)\n",
        "# for i in list_of_videos:\n",
        "#     # Video Path\n",
        "#     vid = str(video_folder + i)  # path to each video from list1 = os.listdir(path)\n",
        "#     # Reading the Video\n",
        "#     cap = cv2.VideoCapture(vid)\n",
        "#     # Reading Frames\n",
        "#     # fps = vcap.get(5)\n",
        "#     # To Store Frames\n",
        "#     q = 0\n",
        "#     frames = []\n",
        "#     if l % 1 == 0:\n",
        "#          print(l, \"/\", len(list_of_videos))\n",
        "\n",
        "#     l += 1\n",
        "#     while (cap.isOpened()):\n",
        "\n",
        "#         q += 1\n",
        "#         ret, frame = cap.read()\n",
        "#         if ret == False:\n",
        "#             break\n",
        "#         else:\n",
        "#             frame = cv2.resize(frame, (100, 100), interpolation=cv2.INTER_AREA)\n",
        "#             frames.append(frame)\n",
        "\n",
        "#         if q == 16:\n",
        "#             X_val.append(frames)  # appending each tensor of 40 frames resized to 30x30\n",
        "#             y_val.append(0)  # appending a class label to the set of 40 frames\n",
        "#             frames = []\n",
        "#             q=0"
      ],
      "execution_count": null,
      "outputs": [
        {
          "output_type": "stream",
          "text": [
            "0 / 1\n"
          ],
          "name": "stdout"
        }
      ]
    },
    {
      "cell_type": "code",
      "metadata": {
        "id": "dkUqVMTJKRla",
        "colab_type": "code",
        "colab": {
          "base_uri": "https://localhost:8080/",
          "height": 34
        },
        "outputId": "3ec3b684-e582-491f-d56e-17ee0215d633"
      },
      "source": [
        "\n",
        "# l = 0\n",
        "# video_folder = '/content/drive/My Drive/Crowd/Val/ab/'\n",
        "# # X_data = []\n",
        "# # y_data = [}\n",
        "# list_of_videos = os.listdir(video_folder)\n",
        "# for i in list_of_videos:\n",
        "#     # Video Path\n",
        "#     vid = str(video_folder + i)  # path to each video from list1 = os.listdir(path)\n",
        "#     # Reading the Video\n",
        "#     cap = cv2.VideoCapture(vid)\n",
        "#     # Reading Frames\n",
        "#     # fps = vcap.get(5)\n",
        "#     # To Store Frames\n",
        "#     q = 0\n",
        "#     frames = []\n",
        "#     if l % 1 == 0:\n",
        "#          print(l, \"/\", len(list_of_videos))\n",
        "\n",
        "#     l += 1\n",
        "#     while (cap.isOpened()):\n",
        "\n",
        "#         q += 1\n",
        "#         ret, frame = cap.read()\n",
        "#         if ret == False:\n",
        "#             break\n",
        "#         else:\n",
        "#             frame = cv2.resize(frame, (100, 100), interpolation=cv2.INTER_AREA)\n",
        "#             frames.append(frame)\n",
        "\n",
        "#         if q == 16:\n",
        "#             X_val.append(frames)  # appending each tensor of 40 frames resized to 30x30\n",
        "#             y_val.append(1)  # appending a class label to the set of 40 frames\n",
        "#             frames = []\n",
        "#             q=0"
      ],
      "execution_count": null,
      "outputs": [
        {
          "output_type": "stream",
          "text": [
            "0 / 1\n"
          ],
          "name": "stdout"
        }
      ]
    },
    {
      "cell_type": "code",
      "metadata": {
        "id": "0M-wHSqOKfSg",
        "colab_type": "code",
        "colab": {}
      },
      "source": [
        "# X_val = np.array(X_val)\n",
        "# y_val = np.array(y_val)"
      ],
      "execution_count": null,
      "outputs": []
    },
    {
      "cell_type": "code",
      "metadata": {
        "id": "qRFtS2rGKiIT",
        "colab_type": "code",
        "colab": {
          "base_uri": "https://localhost:8080/",
          "height": 34
        },
        "outputId": "62353997-573c-4c0e-8cc3-d02c59cc8e0c"
      },
      "source": [
        "# X_val.shape"
      ],
      "execution_count": null,
      "outputs": [
        {
          "output_type": "execute_result",
          "data": {
            "text/plain": [
              "(31, 16, 100, 100, 3)"
            ]
          },
          "metadata": {
            "tags": []
          },
          "execution_count": 14
        }
      ]
    },
    {
      "cell_type": "code",
      "metadata": {
        "id": "2u6-sFoIKor5",
        "colab_type": "code",
        "colab": {
          "base_uri": "https://localhost:8080/",
          "height": 34
        },
        "outputId": "827a3b18-b7ec-48dd-a2af-81a1d12bb2b5"
      },
      "source": [
        "# y_val.shape"
      ],
      "execution_count": null,
      "outputs": [
        {
          "output_type": "execute_result",
          "data": {
            "text/plain": [
              "(31,)"
            ]
          },
          "metadata": {
            "tags": []
          },
          "execution_count": 15
        }
      ]
    },
    {
      "cell_type": "code",
      "metadata": {
        "id": "Rd8bc7kxKrda",
        "colab_type": "code",
        "colab": {}
      },
      "source": [
        "# X_data = X_data.astype('float16') / 255.\n"
      ],
      "execution_count": null,
      "outputs": []
    },
    {
      "cell_type": "code",
      "metadata": {
        "id": "qaKVtRJfK8FC",
        "colab_type": "code",
        "colab": {}
      },
      "source": [
        "# p = np.random.permutation(len(X_data))\n",
        "\n",
        "# X_data = X_data[p]\n",
        "# y_data = y_data[p]"
      ],
      "execution_count": null,
      "outputs": []
    },
    {
      "cell_type": "code",
      "metadata": {
        "id": "ROCHqwOwgIRB",
        "colab_type": "code",
        "colab": {
          "base_uri": "https://localhost:8080/",
          "height": 224
        },
        "outputId": "fbf06d80-6f95-4105-b9d7-0f407ff2ce5b"
      },
      "source": [
        "history = model.fit(X_data,y_data,batch_size=32, epochs=5,validation_split=0.3)"
      ],
      "execution_count": 18,
      "outputs": [
        {
          "output_type": "stream",
          "text": [
            "Train on 516 samples, validate on 222 samples\n",
            "Epoch 1/5\n",
            "516/516 [==============================] - 304s 589ms/step - loss: 0.3032 - acc: 0.9186 - val_loss: 0.6421 - val_acc: 0.8829\n",
            "Epoch 2/5\n",
            "516/516 [==============================] - 303s 588ms/step - loss: 0.2933 - acc: 0.9225 - val_loss: 0.6343 - val_acc: 0.9099\n",
            "Epoch 3/5\n",
            "516/516 [==============================] - 304s 589ms/step - loss: 0.2648 - acc: 0.9438 - val_loss: 0.6257 - val_acc: 0.9099\n",
            "Epoch 4/5\n",
            "516/516 [==============================] - 302s 586ms/step - loss: 0.2533 - acc: 0.9360 - val_loss: 0.6162 - val_acc: 0.9189\n",
            "Epoch 5/5\n",
            "516/516 [==============================] - 303s 587ms/step - loss: 0.2507 - acc: 0.9322 - val_loss: 0.6054 - val_acc: 0.9189\n"
          ],
          "name": "stdout"
        }
      ]
    },
    {
      "cell_type": "code",
      "metadata": {
        "id": "sirkTWQThyUB",
        "colab_type": "code",
        "colab": {
          "base_uri": "https://localhost:8080/",
          "height": 255
        },
        "outputId": "26fe04c1-c41a-40f2-af4e-463cf54896f8"
      },
      "source": [
        "import matplotlib.pyplot as plt\n",
        "\n",
        "plt.figure(figsize=(18, 4))\n",
        "plt.plot(history.history['loss'], label = 'train')\n",
        "plt.plot(history.history['val_loss'], label = 'valid')\n",
        "plt.legend()\n",
        "plt.title('Loss Function')\n",
        "plt.show()\n"
      ],
      "execution_count": 19,
      "outputs": [
        {
          "output_type": "display_data",
          "data": {
            "image/png": "[encoded data removed]",
            "text/plain": [
              "<Figure size 1296x288 with 1 Axes>"
            ]
          },
          "metadata": {
            "tags": [],
            "needs_background": "light"
          }
        }
      ]
    },
    {
      "cell_type": "code",
      "metadata": {
        "id": "ny9qVfRbh3CO",
        "colab_type": "code",
        "colab": {
          "base_uri": "https://localhost:8080/",
          "height": 255
        },
        "outputId": "9c6cd1be-d163-42fd-ef77-53ca224b575b"
      },
      "source": [
        "plt.figure(figsize=(18, 4))\n",
        "plt.plot(history.history['acc'], label = 'train')\n",
        "plt.plot(history.history['val_acc'], label = 'valid')\n",
        "plt.legend()\n",
        "plt.title('Accuracy')\n",
        "plt.show()\n"
      ],
      "execution_count": 20,
      "outputs": [
        {
          "output_type": "display_data",
          "data": {
            "image/png": "[encoded data removed]",
            "text/plain": [
              "<Figure size 1296x288 with 1 Axes>"
            ]
          },
          "metadata": {
            "tags": [],
            "needs_background": "light"
          }
        }
      ]
    },
    {
      "cell_type": "code",
      "metadata": {
        "id": "kt4XYC4oSkge",
        "colab_type": "code",
        "colab": {}
      },
      "source": [
        "import os\n",
        "import cv2\n",
        "import numpy as np\n",
        "l = 0\n",
        "video_folder = '/content/Normal Crowds/'\n",
        "xd = []\n",
        "y = []\n",
        "list_of_videos = os.listdir(video_folder)\n",
        "for i in range(1):\n",
        "    # Video Path\n",
        "    vid = str(\"/content/Crowd Dataset - extra/1379-7_l.mov\")  # path to each video from list1 = os.listdir(path)\n",
        "    # Reading the Video\n",
        "    cap = cv2.VideoCapture(vid)\n",
        "    # Reading Frames\n",
        "    # fps = vcap.get(5)\n",
        "    # To Store Frames\n",
        "    q = 0\n",
        "    frames = []\n",
        "    if l % 1 == 0:\n",
        "         print(l, \"/\", len(list_of_videos))\n",
        "\n",
        "    l += 1\n",
        "    while (cap.isOpened()):\n",
        "\n",
        "        q += 1\n",
        "        ret, frame = cap.read()\n",
        "        if ret == False:\n",
        "            break\n",
        "        else:\n",
        "            frame = cv2.resize(frame, (100, 100), interpolation=cv2.INTER_AREA)\n",
        "            frames.append(frame)\n",
        "\n",
        "        if q == 16:\n",
        "            xd.append(frames)  # appending each tensor of 40 frames resized to 30x30\n",
        "            y.append(1)  # appending a class label to the set of 40 frames\n",
        "            frames = []\n",
        "            q=0"
      ],
      "execution_count": null,
      "outputs": []
    },
    {
      "cell_type": "code",
      "metadata": {
        "id": "rcp0DknBTEAr",
        "colab_type": "code",
        "colab": {}
      },
      "source": [
        "xd = np.array(xd)\n",
        "y = np.array(y)\n",
        "# \n",
        "print(xd.shape)\n",
        "print(len(xd))\n",
        "# \n",
        "# y = y.reshape(len(xd),2)\n",
        "\n",
        "print(xd.shape)\n",
        "print(y.shape)\n",
        "\n",
        "\n",
        "xd = xd.astype('float16') / 255."
      ],
      "execution_count": null,
      "outputs": []
    },
    {
      "cell_type": "code",
      "metadata": {
        "id": "0YvAlD8gTKgQ",
        "colab_type": "code",
        "colab": {}
      },
      "source": [
        "# Finally Test Code on test data\n",
        "\n",
        "score, acc = model.evaluate(xd, y,batch_size=32)\n",
        "print('Test score:', score)\n",
        "print('Test accuracy other data:', acc)"
      ],
      "execution_count": null,
      "outputs": []
    },
    {
      "cell_type": "code",
      "metadata": {
        "id": "M-qxXqNKHG92",
        "colab_type": "code",
        "colab": {}
      },
      "source": [
        "!pwd"
      ],
      "execution_count": null,
      "outputs": []
    },
    {
      "cell_type": "code",
      "metadata": {
        "id": "iu8mGPm9D61X",
        "colab_type": "code",
        "colab": {}
      },
      "source": [
        "import os\n",
        "os.chdir(\"/content/drive/My Drive/Crowd\")"
      ],
      "execution_count": null,
      "outputs": []
    },
    {
      "cell_type": "code",
      "metadata": {
        "id": "2xEywCCtHXS_",
        "colab_type": "code",
        "colab": {}
      },
      "source": [
        ""
      ],
      "execution_count": null,
      "outputs": []
    }
  ]
}